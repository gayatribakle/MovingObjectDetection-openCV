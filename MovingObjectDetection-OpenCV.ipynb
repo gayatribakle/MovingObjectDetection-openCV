{
 "cells": [
  {
   "cell_type": "code",
   "execution_count": 12,
   "id": "3e586994-c855-4b41-bc31-f06bfd3ffde4",
   "metadata": {},
   "outputs": [
    {
     "name": "stdout",
     "output_type": "stream",
     "text": [
      "Requirement already satisfied: opencv-python in c:\\users\\gayat\\appdata\\local\\programs\\python\\python313\\lib\\site-packages (4.12.0.88)\n",
      "Requirement already satisfied: numpy in c:\\users\\gayat\\appdata\\local\\programs\\python\\python313\\lib\\site-packages (2.2.6)\n",
      "Requirement already satisfied: matplotlib in c:\\users\\gayat\\appdata\\local\\programs\\python\\python313\\lib\\site-packages (3.10.3)\n",
      "Requirement already satisfied: contourpy>=1.0.1 in c:\\users\\gayat\\appdata\\local\\programs\\python\\python313\\lib\\site-packages (from matplotlib) (1.3.2)\n",
      "Requirement already satisfied: cycler>=0.10 in c:\\users\\gayat\\appdata\\local\\programs\\python\\python313\\lib\\site-packages (from matplotlib) (0.12.1)\n",
      "Requirement already satisfied: fonttools>=4.22.0 in c:\\users\\gayat\\appdata\\local\\programs\\python\\python313\\lib\\site-packages (from matplotlib) (4.59.0)\n",
      "Requirement already satisfied: kiwisolver>=1.3.1 in c:\\users\\gayat\\appdata\\local\\programs\\python\\python313\\lib\\site-packages (from matplotlib) (1.4.8)\n",
      "Requirement already satisfied: packaging>=20.0 in c:\\users\\gayat\\appdata\\local\\programs\\python\\python313\\lib\\site-packages (from matplotlib) (25.0)\n",
      "Requirement already satisfied: pillow>=8 in c:\\users\\gayat\\appdata\\local\\programs\\python\\python313\\lib\\site-packages (from matplotlib) (11.3.0)\n",
      "Requirement already satisfied: pyparsing>=2.3.1 in c:\\users\\gayat\\appdata\\local\\programs\\python\\python313\\lib\\site-packages (from matplotlib) (3.2.3)\n",
      "Requirement already satisfied: python-dateutil>=2.7 in c:\\users\\gayat\\appdata\\local\\programs\\python\\python313\\lib\\site-packages (from matplotlib) (2.9.0.post0)\n",
      "Requirement already satisfied: six>=1.5 in c:\\users\\gayat\\appdata\\local\\programs\\python\\python313\\lib\\site-packages (from python-dateutil>=2.7->matplotlib) (1.17.0)\n"
     ]
    },
    {
     "name": "stderr",
     "output_type": "stream",
     "text": [
      "\n",
      "[notice] A new release of pip is available: 25.2 -> 25.3\n",
      "[notice] To update, run: python.exe -m pip install --upgrade pip\n"
     ]
    }
   ],
   "source": [
    "!pip install opencv-python numpy matplotlib"
   ]
  },
  {
   "cell_type": "code",
   "execution_count": 13,
   "id": "57c423d0-a367-433f-a7be-d5a97561050a",
   "metadata": {},
   "outputs": [
    {
     "name": "stdout",
     "output_type": "stream",
     "text": [
      "Requirement already satisfied: imageio in c:\\users\\gayat\\appdata\\local\\programs\\python\\python313\\lib\\site-packages (2.37.0)\n",
      "Requirement already satisfied: numpy in c:\\users\\gayat\\appdata\\local\\programs\\python\\python313\\lib\\site-packages (from imageio) (2.2.6)\n",
      "Requirement already satisfied: pillow>=8.3.2 in c:\\users\\gayat\\appdata\\local\\programs\\python\\python313\\lib\\site-packages (from imageio) (11.3.0)\n"
     ]
    },
    {
     "name": "stderr",
     "output_type": "stream",
     "text": [
      "\n",
      "[notice] A new release of pip is available: 25.2 -> 25.3\n",
      "[notice] To update, run: python.exe -m pip install --upgrade pip\n"
     ]
    }
   ],
   "source": [
    "!pip install imageio"
   ]
  },
  {
   "cell_type": "code",
   "execution_count": 18,
   "id": "fd549508-7c25-4a0b-b635-e7038413051d",
   "metadata": {},
   "outputs": [],
   "source": [
    "import cv2\n",
    "import imageio\n",
    "import numpy as np\n",
    "import time\n",
    "from IPython.display import display, clear_output\n",
    "from PIL import Image\n",
    "\n",
    "# Function to display each frame inline\n",
    "def show_frame_inline(frame):\n",
    "    frame_rgb = cv2.cvtColor(frame, cv2.COLOR_BGR2RGB)\n",
    "    img = Image.fromarray(frame_rgb)\n",
    "    clear_output(wait=True)\n",
    "    display(img)\n",
    "\n",
    "# Function to process a GIF and detect moving objects\n",
    "def detect_moving_objects_from_gif(gif_path, save_output=False, output_path=\"detected_output.mp4\"):\n",
    "    # Load the GIF\n",
    "    gif_reader = imageio.get_reader(gif_path)\n",
    "    backSub = cv2.createBackgroundSubtractorMOG2(history=500, varThreshold=16, detectShadows=True)\n",
    "\n",
    "    writer = None\n",
    "    fourcc = cv2.VideoWriter_fourcc(*'mp4v')\n",
    "    frame_index = 0\n",
    "\n",
    "    for frame_rgb in gif_reader:\n",
    "        frame = cv2.cvtColor(frame_rgb, cv2.COLOR_RGB2BGR)\n",
    "        fgmask = backSub.apply(frame)\n",
    "\n",
    "        # Threshold and clean up the mask\n",
    "        _, thresh = cv2.threshold(fgmask, 244, 255, cv2.THRESH_BINARY)\n",
    "        kernel = cv2.getStructuringElement(cv2.MORPH_ELLIPSE, (3,3))\n",
    "        thresh = cv2.morphologyEx(thresh, cv2.MORPH_OPEN, kernel, iterations=1)\n",
    "\n",
    "        # Find contours (moving objects)\n",
    "        contours, _ = cv2.findContours(thresh, cv2.RETR_EXTERNAL, cv2.CHAIN_APPROX_SIMPLE)\n",
    "        for cnt in contours:\n",
    "            if cv2.contourArea(cnt) < 300:  # Ignore small movements\n",
    "                continue\n",
    "            x, y, w, h = cv2.boundingRect(cnt)\n",
    "            cv2.rectangle(frame, (x, y), (x + w, y + h), (0, 255, 0), 2)\n",
    "\n",
    "        # Initialize video writer if saving\n",
    "        if save_output and writer is None:\n",
    "            h, w = frame.shape[:2]\n",
    "            writer = cv2.VideoWriter(output_path, fourcc, 10, (w, h), True)\n",
    "\n",
    "        # Show each frame inline\n",
    "        show_frame_inline(frame)\n",
    "        time.sleep(0.05)\n",
    "\n",
    "        # Save to video if requested\n",
    "        if save_output:\n",
    "            writer.write(frame)\n",
    "\n",
    "        frame_index += 1\n",
    "\n",
    "    if save_output and writer:\n",
    "        writer.release()\n",
    "    clear_output(wait=True)\n",
    "    print(\"Processing complete ✅\")"
   ]
  },
  {
   "cell_type": "code",
   "execution_count": 19,
   "id": "ac26116d-e632-4a25-b014-dcd808d01545",
   "metadata": {},
   "outputs": [
    {
     "name": "stdout",
     "output_type": "stream",
     "text": [
      "Processing complete ✅\n"
     ]
    }
   ],
   "source": [
    "detect_moving_objects_from_gif(\"Detect.gif\", save_output=True, output_path=\"Detected_Result.mp4\")"
   ]
  },
  {
   "cell_type": "code",
   "execution_count": null,
   "id": "397e739e-89ae-45a6-9486-f933fbe3443f",
   "metadata": {},
   "outputs": [],
   "source": []
  }
 ],
 "metadata": {
  "kernelspec": {
   "display_name": "Python 3 (ipykernel)",
   "language": "python",
   "name": "python3"
  },
  "language_info": {
   "codemirror_mode": {
    "name": "ipython",
    "version": 3
   },
   "file_extension": ".py",
   "mimetype": "text/x-python",
   "name": "python",
   "nbconvert_exporter": "python",
   "pygments_lexer": "ipython3",
   "version": "3.13.5"
  }
 },
 "nbformat": 4,
 "nbformat_minor": 5
}
